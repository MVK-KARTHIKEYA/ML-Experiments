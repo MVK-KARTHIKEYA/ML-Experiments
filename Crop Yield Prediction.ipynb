{
 "cells": [
  {
   "cell_type": "code",
   "execution_count": 2,
   "id": "45c06ae1",
   "metadata": {},
   "outputs": [
    {
     "name": "stdout",
     "output_type": "stream",
     "text": [
      "   Rain Fall (mm)  Fertilizer(urea) (kg/acre)  Temperature (°C)  Nitrogen (N)  \\\n",
      "0            1230                          80                28            80   \n",
      "1             480                          60                36            70   \n",
      "2            1250                          75                29            78   \n",
      "3             450                          65                35            70   \n",
      "4            1200                          80                27            79   \n",
      "\n",
      "   Phosphorus (P)  Potassium (K)  Yeild (Q/acre)  \n",
      "0              24             20            12.0  \n",
      "1              20             18             8.0  \n",
      "2              22             19            11.0  \n",
      "3              19             18             9.0  \n",
      "4              22             19            11.0  \n"
     ]
    }
   ],
   "source": [
    "import pandas as pd\n",
    "import numpy as np\n",
    "import matplotlib.pyplot as mb\n",
    "\n",
    "#Loading the given dataset and reading it\n",
    "xlsx = pd.ExcelFile(r\"C:\\Users\\wizar\\Downloads\\crop yeild data (1).xlsx\")\n",
    "df = pd.read_excel(xlsx)\n",
    "print(df.head())"
   ]
  },
  {
   "cell_type": "code",
   "execution_count": 3,
   "id": "cbdec44f",
   "metadata": {},
   "outputs": [
    {
     "name": "stdout",
     "output_type": "stream",
     "text": [
      "    Fertilizer(urea) (kg/acre)  Temperature (°C)  Nitrogen (N)  \\\n",
      "0                           80                28            80   \n",
      "1                           60                36            70   \n",
      "2                           75                29            78   \n",
      "3                           65                35            70   \n",
      "4                           80                27            79   \n",
      "..                         ...               ...           ...   \n",
      "94                          77                28            78   \n",
      "95                          60                39            65   \n",
      "96                          79                28            77   \n",
      "97                          65                36            68   \n",
      "98                          80                28            80   \n",
      "\n",
      "    Phosphorus (P)  Potassium (K)  \n",
      "0               24             20  \n",
      "1               20             18  \n",
      "2               22             19  \n",
      "3               19             18  \n",
      "4               22             19  \n",
      "..             ...            ...  \n",
      "94              23             20  \n",
      "95              19             17  \n",
      "96              23             21  \n",
      "97              21             16  \n",
      "98              24             20  \n",
      "\n",
      "[99 rows x 5 columns]\n",
      "0     12.0\n",
      "1      8.0\n",
      "2     11.0\n",
      "3      9.0\n",
      "4     11.0\n",
      "      ... \n",
      "94     9.0\n",
      "95     6.5\n",
      "96    10.5\n",
      "97     7.0\n",
      "98    12.0\n",
      "Name: Yeild (Q/acre), Length: 99, dtype: float64\n"
     ]
    }
   ],
   "source": [
    "x = df.iloc[:,1:6]\n",
    "y = df.iloc[:,-1]\n",
    "print(x)\n",
    "print(y)"
   ]
  },
  {
   "cell_type": "code",
   "execution_count": 4,
   "id": "66dfc839",
   "metadata": {},
   "outputs": [],
   "source": [
    "from sklearn.model_selection import train_test_split  \n",
    "x_train,x_test,y_train,y_test = train_test_split(x,y,test_size=0.1,random_state=0)"
   ]
  },
  {
   "cell_type": "code",
   "execution_count": 5,
   "id": "186bb585",
   "metadata": {},
   "outputs": [
    {
     "data": {
      "text/html": [
       "<style>#sk-container-id-1 {color: black;}#sk-container-id-1 pre{padding: 0;}#sk-container-id-1 div.sk-toggleable {background-color: white;}#sk-container-id-1 label.sk-toggleable__label {cursor: pointer;display: block;width: 100%;margin-bottom: 0;padding: 0.3em;box-sizing: border-box;text-align: center;}#sk-container-id-1 label.sk-toggleable__label-arrow:before {content: \"▸\";float: left;margin-right: 0.25em;color: #696969;}#sk-container-id-1 label.sk-toggleable__label-arrow:hover:before {color: black;}#sk-container-id-1 div.sk-estimator:hover label.sk-toggleable__label-arrow:before {color: black;}#sk-container-id-1 div.sk-toggleable__content {max-height: 0;max-width: 0;overflow: hidden;text-align: left;background-color: #f0f8ff;}#sk-container-id-1 div.sk-toggleable__content pre {margin: 0.2em;color: black;border-radius: 0.25em;background-color: #f0f8ff;}#sk-container-id-1 input.sk-toggleable__control:checked~div.sk-toggleable__content {max-height: 200px;max-width: 100%;overflow: auto;}#sk-container-id-1 input.sk-toggleable__control:checked~label.sk-toggleable__label-arrow:before {content: \"▾\";}#sk-container-id-1 div.sk-estimator input.sk-toggleable__control:checked~label.sk-toggleable__label {background-color: #d4ebff;}#sk-container-id-1 div.sk-label input.sk-toggleable__control:checked~label.sk-toggleable__label {background-color: #d4ebff;}#sk-container-id-1 input.sk-hidden--visually {border: 0;clip: rect(1px 1px 1px 1px);clip: rect(1px, 1px, 1px, 1px);height: 1px;margin: -1px;overflow: hidden;padding: 0;position: absolute;width: 1px;}#sk-container-id-1 div.sk-estimator {font-family: monospace;background-color: #f0f8ff;border: 1px dotted black;border-radius: 0.25em;box-sizing: border-box;margin-bottom: 0.5em;}#sk-container-id-1 div.sk-estimator:hover {background-color: #d4ebff;}#sk-container-id-1 div.sk-parallel-item::after {content: \"\";width: 100%;border-bottom: 1px solid gray;flex-grow: 1;}#sk-container-id-1 div.sk-label:hover label.sk-toggleable__label {background-color: #d4ebff;}#sk-container-id-1 div.sk-serial::before {content: \"\";position: absolute;border-left: 1px solid gray;box-sizing: border-box;top: 0;bottom: 0;left: 50%;z-index: 0;}#sk-container-id-1 div.sk-serial {display: flex;flex-direction: column;align-items: center;background-color: white;padding-right: 0.2em;padding-left: 0.2em;position: relative;}#sk-container-id-1 div.sk-item {position: relative;z-index: 1;}#sk-container-id-1 div.sk-parallel {display: flex;align-items: stretch;justify-content: center;background-color: white;position: relative;}#sk-container-id-1 div.sk-item::before, #sk-container-id-1 div.sk-parallel-item::before {content: \"\";position: absolute;border-left: 1px solid gray;box-sizing: border-box;top: 0;bottom: 0;left: 50%;z-index: -1;}#sk-container-id-1 div.sk-parallel-item {display: flex;flex-direction: column;z-index: 1;position: relative;background-color: white;}#sk-container-id-1 div.sk-parallel-item:first-child::after {align-self: flex-end;width: 50%;}#sk-container-id-1 div.sk-parallel-item:last-child::after {align-self: flex-start;width: 50%;}#sk-container-id-1 div.sk-parallel-item:only-child::after {width: 0;}#sk-container-id-1 div.sk-dashed-wrapped {border: 1px dashed gray;margin: 0 0.4em 0.5em 0.4em;box-sizing: border-box;padding-bottom: 0.4em;background-color: white;}#sk-container-id-1 div.sk-label label {font-family: monospace;font-weight: bold;display: inline-block;line-height: 1.2em;}#sk-container-id-1 div.sk-label-container {text-align: center;}#sk-container-id-1 div.sk-container {/* jupyter's `normalize.less` sets `[hidden] { display: none; }` but bootstrap.min.css set `[hidden] { display: none !important; }` so we also need the `!important` here to be able to override the default hidden behavior on the sphinx rendered scikit-learn.org. See: https://github.com/scikit-learn/scikit-learn/issues/21755 */display: inline-block !important;position: relative;}#sk-container-id-1 div.sk-text-repr-fallback {display: none;}</style><div id=\"sk-container-id-1\" class=\"sk-top-container\"><div class=\"sk-text-repr-fallback\"><pre>LinearRegression()</pre><b>In a Jupyter environment, please rerun this cell to show the HTML representation or trust the notebook. <br />On GitHub, the HTML representation is unable to render, please try loading this page with nbviewer.org.</b></div><div class=\"sk-container\" hidden><div class=\"sk-item\"><div class=\"sk-estimator sk-toggleable\"><input class=\"sk-toggleable__control sk-hidden--visually\" id=\"sk-estimator-id-1\" type=\"checkbox\" checked><label for=\"sk-estimator-id-1\" class=\"sk-toggleable__label sk-toggleable__label-arrow\">LinearRegression</label><div class=\"sk-toggleable__content\"><pre>LinearRegression()</pre></div></div></div></div></div>"
      ],
      "text/plain": [
       "LinearRegression()"
      ]
     },
     "execution_count": 5,
     "metadata": {},
     "output_type": "execute_result"
    }
   ],
   "source": [
    "from sklearn.linear_model import LinearRegression\n",
    "model = LinearRegression()\n",
    "model.fit(x_train,y_train)"
   ]
  },
  {
   "cell_type": "code",
   "execution_count": 6,
   "id": "217f7ded",
   "metadata": {},
   "outputs": [
    {
     "name": "stdout",
     "output_type": "stream",
     "text": [
      "[ 5.96073628 10.45476718 10.55066142  7.57947667  7.2111575   9.99335412\n",
      " 11.2920789   8.16203798 10.78934232 11.04853751]\n"
     ]
    }
   ],
   "source": [
    "y_pred = model.predict(x_test)\n",
    "print(y_pred)"
   ]
  },
  {
   "cell_type": "code",
   "execution_count": 7,
   "id": "16fe0117",
   "metadata": {},
   "outputs": [
    {
     "name": "stdout",
     "output_type": "stream",
     "text": [
      "[11.2920789   8.50223129 10.55066142  8.44000958 10.84769898  8.63700526\n",
      " 10.86788654  6.87063745 11.20071841  6.17967265 11.5964407   7.40713553\n",
      " 10.95471327  8.13294625 10.31933461  5.96073628 11.2920789   7.63681816\n",
      " 10.84424964 10.89427674  6.48682495 10.88874754  7.40713553 10.47321148\n",
      "  8.13294625 10.31933461  5.96073628 11.2920789   7.12609849 10.00068823\n",
      " 10.77091774  6.45689643 10.88874754  7.40713553 10.47321148  8.13294625\n",
      " 10.31933461  5.96073628 10.70077232  8.19513077 11.20904797  7.12609849\n",
      " 11.28930812  6.47145596 11.00267037  7.38804225 10.88874754  8.20345047\n",
      " 10.20044234  6.48403446 11.32613532  6.75147023 10.99084956  6.80157645\n",
      " 10.78934232  7.57947667 10.65006665  8.3118441  10.61805827  7.14240128\n",
      " 10.80916595  7.25765615 11.13678076  6.61113748 10.54580093  7.53395374\n",
      " 10.93807388  7.63504284 10.55345191  7.11805375 10.78935218  6.83000459\n",
      " 11.0547872   8.16203798 10.45476718  7.2111575  11.2920789   6.02749175\n",
      "  9.99515903  7.81498318 10.30258628  6.49786589 10.70005183  8.22076843\n",
      " 10.86335278  9.01225493 10.45476718  7.76114055 10.70563282  6.5774748\n",
      " 10.78589298  6.45515317  9.99335412  6.49786589 11.04853751  7.14548645\n",
      " 11.18715433  7.7243136  11.2920789 ]\n"
     ]
    }
   ],
   "source": [
    "y_pred1 = model.predict(x)\n",
    "print(y_pred1)"
   ]
  },
  {
   "cell_type": "code",
   "execution_count": 8,
   "id": "bbbc410a",
   "metadata": {},
   "outputs": [],
   "source": [
    "df['Predicted'] = y_pred1\n",
    "df.to_excel(xlsx,index = False)"
   ]
  },
  {
   "cell_type": "code",
   "execution_count": 9,
   "id": "a9495c92",
   "metadata": {},
   "outputs": [],
   "source": [
    "y_error = ((df['Yeild (Q/acre)'] - df['Predicted'])/(df['Yeild (Q/acre)']))*100\n",
    "df['Error(in percentage)'] = y_error\n",
    "df.to_excel(xlsx,index = False)"
   ]
  },
  {
   "cell_type": "code",
   "execution_count": 10,
   "id": "330e3c7e",
   "metadata": {},
   "outputs": [
    {
     "name": "stdout",
     "output_type": "stream",
     "text": [
      "Mean Absolute Error (MAE): 0.7012881675192844\n",
      "Mean Squared Error (MSE): 0.8157810696060569\n",
      "Root Mean Squared Error (RMSE): 0.9032059951118886\n",
      "R-squared (R²): 0.7482157192573898\n"
     ]
    }
   ],
   "source": [
    "from sklearn.metrics import mean_absolute_error, mean_squared_error, r2_score\n",
    "\n",
    "mae = mean_absolute_error(y_test, y_pred)\n",
    "mse = mean_squared_error(y_test, y_pred)\n",
    "rmse = np.sqrt(mse)\n",
    "r2 = r2_score(y_test, y_pred)\n",
    "\n",
    "print(f'Mean Absolute Error (MAE): {mae}')\n",
    "print(f'Mean Squared Error (MSE): {mse}')\n",
    "print(f'Root Mean Squared Error (RMSE): {rmse}')\n",
    "print(f'R-squared (R²): {r2}')\n"
   ]
  },
  {
   "cell_type": "code",
   "execution_count": 11,
   "id": "4862c50e",
   "metadata": {},
   "outputs": [
    {
     "name": "stdout",
     "output_type": "stream",
     "text": [
      "0     11.292079\n",
      "1      8.502231\n",
      "2     10.550661\n",
      "3      8.440010\n",
      "4     10.847699\n",
      "        ...    \n",
      "94    11.048538\n",
      "95     7.145486\n",
      "96    11.187154\n",
      "97     7.724314\n",
      "98    11.292079\n",
      "Name: Predicted, Length: 99, dtype: float64\n"
     ]
    }
   ],
   "source": [
    "print(df['Predicted'])\n"
   ]
  },
  {
   "cell_type": "code",
   "execution_count": null,
   "id": "4fd3f371",
   "metadata": {},
   "outputs": [],
   "source": []
  }
 ],
 "metadata": {
  "kernelspec": {
   "display_name": "Python 3 (ipykernel)",
   "language": "python",
   "name": "python3"
  },
  "language_info": {
   "codemirror_mode": {
    "name": "ipython",
    "version": 3
   },
   "file_extension": ".py",
   "mimetype": "text/x-python",
   "name": "python",
   "nbconvert_exporter": "python",
   "pygments_lexer": "ipython3",
   "version": "3.11.5"
  }
 },
 "nbformat": 4,
 "nbformat_minor": 5
}
